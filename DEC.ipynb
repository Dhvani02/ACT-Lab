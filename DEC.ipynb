{
 "cells": [
  {
   "cell_type": "code",
   "execution_count": 0,
   "metadata": {
    "colab": {},
    "colab_type": "code",
    "id": "OLhavuJU5H7F"
   },
   "outputs": [],
   "source": [
    "import os\n",
    "import torch\n",
    "import torch.nn as nn\n",
    "from torch.autograd import Variable\n",
    "import torchvision.datasets as dset\n",
    "import torchvision.transforms as transforms\n",
    "import torch.nn.functional as F\n",
    "import torch.optim as optim\n",
    "from sklearn.cluster import MiniBatchKMeans, KMeans\n",
    "import pandas as pd"
   ]
  },
  {
   "cell_type": "code",
   "execution_count": 0,
   "metadata": {
    "colab": {},
    "colab_type": "code",
    "id": "nyt0e1eG5KXR"
   },
   "outputs": [],
   "source": [
    "#downsample data by taking every 16th data row\n",
    "n = 16\n",
    "num_lines = sum(1 for l in open('full-game'))\n",
    "skip_idx = [x for x in range(0, num_lines) if x % n != 0 or x > 20656700]"
   ]
  },
  {
   "cell_type": "code",
   "execution_count": 0,
   "metadata": {
    "colab": {},
    "colab_type": "code",
    "id": "HEKm8bW35Mc9"
   },
   "outputs": [],
   "source": [
    "data_1 = pd.read_csv('full-game', skiprows=skip_idx, usecols = range(5), header = None, names = ['SID', 'ts','x', 'y', 'z'])"
   ]
  },
  {
   "cell_type": "code",
   "execution_count": 0,
   "metadata": {
    "colab": {
     "base_uri": "https://localhost:8080/",
     "height": 34
    },
    "colab_type": "code",
    "executionInfo": {
     "elapsed": 102703,
     "status": "ok",
     "timestamp": 1574590193283,
     "user": {
      "displayName": "Free Food",
      "photoUrl": "",
      "userId": "02789899940229016810"
     },
     "user_tz": 480
    },
    "id": "XE0hMo4k6Q8N",
    "outputId": "9674d740-4441-47aa-cfc3-fa58853a8ef8"
   },
   "outputs": [
    {
     "name": "stdout",
     "output_type": "stream",
     "text": [
      "(1291044, 5)\n"
     ]
    }
   ],
   "source": [
    "print(data_1.shape)"
   ]
  },
  {
   "cell_type": "code",
   "execution_count": 0,
   "metadata": {
    "colab": {},
    "colab_type": "code",
    "id": "hcpCm9OOUaRc"
   },
   "outputs": [],
   "source": [
    "#one sensor team\n",
    "team_a = [14,16,88,52,54,24,58,28]\n",
    "team_b = [100,64,66,68,38,40,74,44]\n",
    "ball = [4,8,10]"
   ]
  },
  {
   "cell_type": "code",
   "execution_count": 0,
   "metadata": {
    "colab": {},
    "colab_type": "code",
    "id": "KcHjU1CgU6t9"
   },
   "outputs": [],
   "source": [
    "#filter data by taking only 1 sensor per player(rather than 2)\n",
    "\n",
    "row = [14,16,88,52,54,24,58,28,100,64,66,68,38,40,74,44,4,8,10]\n",
    "data = pd.DataFrame(data_1.loc[data_1['SID'].isin(row)])"
   ]
  },
  {
   "cell_type": "code",
   "execution_count": 0,
   "metadata": {
    "colab": {},
    "colab_type": "code",
    "id": "S_-tn1u4ZdvJ"
   },
   "outputs": [],
   "source": [
    "data = data.reset_index()\n",
    "del data['index']"
   ]
  },
  {
   "cell_type": "code",
   "execution_count": 0,
   "metadata": {
    "colab": {
     "base_uri": "https://localhost:8080/",
     "height": 419
    },
    "colab_type": "code",
    "executionInfo": {
     "elapsed": 96986,
     "status": "ok",
     "timestamp": 1574590193286,
     "user": {
      "displayName": "Free Food",
      "photoUrl": "",
      "userId": "02789899940229016810"
     },
     "user_tz": 480
    },
    "id": "hZgBFfRZejmC",
    "outputId": "33c3c5fc-3708-4675-9dc7-b55b562ffb16"
   },
   "outputs": [
    {
     "data": {
      "text/html": [
       "<div>\n",
       "<style scoped>\n",
       "    .dataframe tbody tr th:only-of-type {\n",
       "        vertical-align: middle;\n",
       "    }\n",
       "\n",
       "    .dataframe tbody tr th {\n",
       "        vertical-align: top;\n",
       "    }\n",
       "\n",
       "    .dataframe thead th {\n",
       "        text-align: right;\n",
       "    }\n",
       "</style>\n",
       "<table border=\"1\" class=\"dataframe\">\n",
       "  <thead>\n",
       "    <tr style=\"text-align: right;\">\n",
       "      <th></th>\n",
       "      <th>SID</th>\n",
       "      <th>ts</th>\n",
       "      <th>x</th>\n",
       "      <th>y</th>\n",
       "      <th>z</th>\n",
       "    </tr>\n",
       "  </thead>\n",
       "  <tbody>\n",
       "    <tr>\n",
       "      <th>0</th>\n",
       "      <td>40</td>\n",
       "      <td>10634764572720448</td>\n",
       "      <td>27228</td>\n",
       "      <td>-481</td>\n",
       "      <td>1514</td>\n",
       "    </tr>\n",
       "    <tr>\n",
       "      <th>1</th>\n",
       "      <td>64</td>\n",
       "      <td>10634776451835563</td>\n",
       "      <td>28529</td>\n",
       "      <td>-1466</td>\n",
       "      <td>-241</td>\n",
       "    </tr>\n",
       "    <tr>\n",
       "      <th>2</th>\n",
       "      <td>64</td>\n",
       "      <td>10634786243777526</td>\n",
       "      <td>28530</td>\n",
       "      <td>-1467</td>\n",
       "      <td>-236</td>\n",
       "    </tr>\n",
       "    <tr>\n",
       "      <th>3</th>\n",
       "      <td>14</td>\n",
       "      <td>10634795141594221</td>\n",
       "      <td>26227</td>\n",
       "      <td>-5728</td>\n",
       "      <td>-443</td>\n",
       "    </tr>\n",
       "    <tr>\n",
       "      <th>4</th>\n",
       "      <td>40</td>\n",
       "      <td>10634797780866227</td>\n",
       "      <td>27224</td>\n",
       "      <td>-483</td>\n",
       "      <td>1533</td>\n",
       "    </tr>\n",
       "    <tr>\n",
       "      <th>...</th>\n",
       "      <td>...</td>\n",
       "      <td>...</td>\n",
       "      <td>...</td>\n",
       "      <td>...</td>\n",
       "      <td>...</td>\n",
       "    </tr>\n",
       "    <tr>\n",
       "      <th>886821</th>\n",
       "      <td>14</td>\n",
       "      <td>12257168872565781</td>\n",
       "      <td>26546</td>\n",
       "      <td>-25895</td>\n",
       "      <td>-372</td>\n",
       "    </tr>\n",
       "    <tr>\n",
       "      <th>886822</th>\n",
       "      <td>10</td>\n",
       "      <td>12257170202719574</td>\n",
       "      <td>-7625</td>\n",
       "      <td>37096</td>\n",
       "      <td>-398</td>\n",
       "    </tr>\n",
       "    <tr>\n",
       "      <th>886823</th>\n",
       "      <td>10</td>\n",
       "      <td>12257172842703605</td>\n",
       "      <td>-7625</td>\n",
       "      <td>37099</td>\n",
       "      <td>-406</td>\n",
       "    </tr>\n",
       "    <tr>\n",
       "      <th>886824</th>\n",
       "      <td>64</td>\n",
       "      <td>12257174224274384</td>\n",
       "      <td>27676</td>\n",
       "      <td>28347</td>\n",
       "      <td>97</td>\n",
       "    </tr>\n",
       "    <tr>\n",
       "      <th>886825</th>\n",
       "      <td>4</td>\n",
       "      <td>12257175700565463</td>\n",
       "      <td>-7696</td>\n",
       "      <td>-35012</td>\n",
       "      <td>112</td>\n",
       "    </tr>\n",
       "  </tbody>\n",
       "</table>\n",
       "<p>886826 rows × 5 columns</p>\n",
       "</div>"
      ],
      "text/plain": [
       "        SID                 ts      x      y     z\n",
       "0        40  10634764572720448  27228   -481  1514\n",
       "1        64  10634776451835563  28529  -1466  -241\n",
       "2        64  10634786243777526  28530  -1467  -236\n",
       "3        14  10634795141594221  26227  -5728  -443\n",
       "4        40  10634797780866227  27224   -483  1533\n",
       "...     ...                ...    ...    ...   ...\n",
       "886821   14  12257168872565781  26546 -25895  -372\n",
       "886822   10  12257170202719574  -7625  37096  -398\n",
       "886823   10  12257172842703605  -7625  37099  -406\n",
       "886824   64  12257174224274384  27676  28347    97\n",
       "886825    4  12257175700565463  -7696 -35012   112\n",
       "\n",
       "[886826 rows x 5 columns]"
      ]
     },
     "execution_count": 10,
     "metadata": {
      "tags": []
     },
     "output_type": "execute_result"
    }
   ],
   "source": [
    "data"
   ]
  },
  {
   "cell_type": "code",
   "execution_count": 0,
   "metadata": {
    "colab": {
     "base_uri": "https://localhost:8080/",
     "height": 419
    },
    "colab_type": "code",
    "executionInfo": {
     "elapsed": 290,
     "status": "ok",
     "timestamp": 1573507418805,
     "user": {
      "displayName": "Free Food",
      "photoUrl": "",
      "userId": "02789899940229016810"
     },
     "user_tz": 480
    },
    "id": "sjaW6cIWIQMR",
    "outputId": "b6cd492f-b898-4df4-be34-d77dc40fe2cb"
   },
   "outputs": [
    {
     "data": {
      "text/html": [
       "<div>\n",
       "<style scoped>\n",
       "    .dataframe tbody tr th:only-of-type {\n",
       "        vertical-align: middle;\n",
       "    }\n",
       "\n",
       "    .dataframe tbody tr th {\n",
       "        vertical-align: top;\n",
       "    }\n",
       "\n",
       "    .dataframe thead th {\n",
       "        text-align: right;\n",
       "    }\n",
       "</style>\n",
       "<table border=\"1\" class=\"dataframe\">\n",
       "  <thead>\n",
       "    <tr style=\"text-align: right;\">\n",
       "      <th></th>\n",
       "      <th>SID</th>\n",
       "      <th>ts</th>\n",
       "      <th>x</th>\n",
       "      <th>y</th>\n",
       "      <th>z</th>\n",
       "    </tr>\n",
       "  </thead>\n",
       "  <tbody>\n",
       "    <tr>\n",
       "      <th>0</th>\n",
       "      <td>98</td>\n",
       "      <td>10629342490369879</td>\n",
       "      <td>26406</td>\n",
       "      <td>-6869</td>\n",
       "      <td>1070</td>\n",
       "    </tr>\n",
       "    <tr>\n",
       "      <th>1</th>\n",
       "      <td>67</td>\n",
       "      <td>10634736654612317</td>\n",
       "      <td>26679</td>\n",
       "      <td>-580</td>\n",
       "      <td>192</td>\n",
       "    </tr>\n",
       "    <tr>\n",
       "      <th>2</th>\n",
       "      <td>47</td>\n",
       "      <td>10634751877941530</td>\n",
       "      <td>27488</td>\n",
       "      <td>-5847</td>\n",
       "      <td>154</td>\n",
       "    </tr>\n",
       "    <tr>\n",
       "      <th>3</th>\n",
       "      <td>65</td>\n",
       "      <td>10634758356661915</td>\n",
       "      <td>28258</td>\n",
       "      <td>-892</td>\n",
       "      <td>446</td>\n",
       "    </tr>\n",
       "    <tr>\n",
       "      <th>4</th>\n",
       "      <td>40</td>\n",
       "      <td>10634764572720448</td>\n",
       "      <td>27228</td>\n",
       "      <td>-481</td>\n",
       "      <td>1514</td>\n",
       "    </tr>\n",
       "    <tr>\n",
       "      <th>...</th>\n",
       "      <td>...</td>\n",
       "      <td>...</td>\n",
       "      <td>...</td>\n",
       "      <td>...</td>\n",
       "      <td>...</td>\n",
       "    </tr>\n",
       "    <tr>\n",
       "      <th>1351726</th>\n",
       "      <td>65</td>\n",
       "      <td>12419979313742531</td>\n",
       "      <td>36284</td>\n",
       "      <td>8248</td>\n",
       "      <td>-218</td>\n",
       "    </tr>\n",
       "    <tr>\n",
       "      <th>1351727</th>\n",
       "      <td>57</td>\n",
       "      <td>12419983897140077</td>\n",
       "      <td>36538</td>\n",
       "      <td>7389</td>\n",
       "      <td>-283</td>\n",
       "    </tr>\n",
       "    <tr>\n",
       "      <th>1351728</th>\n",
       "      <td>69</td>\n",
       "      <td>12419988590167392</td>\n",
       "      <td>15886</td>\n",
       "      <td>6721</td>\n",
       "      <td>-216</td>\n",
       "    </tr>\n",
       "    <tr>\n",
       "      <th>1351729</th>\n",
       "      <td>59</td>\n",
       "      <td>12419993051096772</td>\n",
       "      <td>24801</td>\n",
       "      <td>9067</td>\n",
       "      <td>-267</td>\n",
       "    </tr>\n",
       "    <tr>\n",
       "      <th>1351730</th>\n",
       "      <td>54</td>\n",
       "      <td>12419997701344206</td>\n",
       "      <td>4764</td>\n",
       "      <td>-5379</td>\n",
       "      <td>-518</td>\n",
       "    </tr>\n",
       "  </tbody>\n",
       "</table>\n",
       "<p>1351731 rows × 5 columns</p>\n",
       "</div>"
      ],
      "text/plain": [
       "         SID                 ts      x     y     z\n",
       "0         98  10629342490369879  26406 -6869  1070\n",
       "1         67  10634736654612317  26679  -580   192\n",
       "2         47  10634751877941530  27488 -5847   154\n",
       "3         65  10634758356661915  28258  -892   446\n",
       "4         40  10634764572720448  27228  -481  1514\n",
       "...      ...                ...    ...   ...   ...\n",
       "1351726   65  12419979313742531  36284  8248  -218\n",
       "1351727   57  12419983897140077  36538  7389  -283\n",
       "1351728   69  12419988590167392  15886  6721  -216\n",
       "1351729   59  12419993051096772  24801  9067  -267\n",
       "1351730   54  12419997701344206   4764 -5379  -518\n",
       "\n",
       "[1351731 rows x 5 columns]"
      ]
     },
     "execution_count": 15,
     "metadata": {
      "tags": []
     },
     "output_type": "execute_result"
    }
   ],
   "source": [
    "#pick only 1st 30 minutes data\n",
    "data[data['ts'] < 1.242*10000000000000000]"
   ]
  },
  {
   "cell_type": "code",
   "execution_count": 0,
   "metadata": {
    "colab": {
     "base_uri": "https://localhost:8080/",
     "height": 282
    },
    "colab_type": "code",
    "executionInfo": {
     "elapsed": 3093,
     "status": "ok",
     "timestamp": 1573676129008,
     "user": {
      "displayName": "Free Food",
      "photoUrl": "",
      "userId": "02789899940229016810"
     },
     "user_tz": 480
    },
    "id": "SFdzBurAWeUW",
    "outputId": "907bde45-22c1-4da7-cc23-8c7907e3f327"
   },
   "outputs": [
    {
     "name": "stdout",
     "output_type": "stream",
     "text": [
      "(161196, 5)\n"
     ]
    },
    {
     "data": {
      "image/png": "[encoded data removed]",
      "text/plain": [
       "<Figure size 432x288 with 1 Axes>"
      ]
     },
     "metadata": {
      "tags": []
     },
     "output_type": "display_data"
    }
   ],
   "source": [
    "#visualize team movements over 30 mins\n",
    "data_playersA = data.copy()\n",
    "data_playersB = data.copy()\n",
    "data_playersA.query('SID in [98,47,16,88,52,54,24,58,28]', inplace = True) \n",
    "data_playersB.query('SID in [100,63,64,66,68,38,40,74,44]', inplace = True) \n",
    "print(data_playersB.shape)\n",
    "import matplotlib.pyplot as plt\n",
    "plt.axes()\n",
    "plt.scatter(data_playersA['x'],data_playersA['y'], c = 'r')\n",
    "plt.scatter(data_playersB['x'],data_playersB['y'], c= 'b') \n",
    "plt.show()"
   ]
  },
  {
   "cell_type": "code",
   "execution_count": 0,
   "metadata": {
    "colab": {
     "base_uri": "https://localhost:8080/",
     "height": 265
    },
    "colab_type": "code",
    "executionInfo": {
     "elapsed": 1990,
     "status": "ok",
     "timestamp": 1573676160114,
     "user": {
      "displayName": "Free Food",
      "photoUrl": "",
      "userId": "02789899940229016810"
     },
     "user_tz": 480
    },
    "id": "BrKX_-uEyEHJ",
    "outputId": "327df95c-d163-461e-fadd-b752ad361084"
   },
   "outputs": [
    {
     "data": {
      "image/png": "[encoded data removed]",
      "text/plain": [
       "<Figure size 432x288 with 1 Axes>"
      ]
     },
     "metadata": {
      "tags": []
     },
     "output_type": "display_data"
    }
   ],
   "source": [
    "# position of goalkeeper of team B\n",
    "import matplotlib.pyplot as plt\n",
    "import numpy as np\n",
    "x = data_keeper['x'].values\n",
    "y = data_keeper['y'].values\n",
    "plt.axes(xlim=(-50, 54000), ylim=(-33000,33000))\n",
    "plt.scatter(x,y)\n",
    "plt.plot()\n",
    "plt.show()"
   ]
  },
  {
   "cell_type": "code",
   "execution_count": 0,
   "metadata": {
    "colab": {
     "base_uri": "https://localhost:8080/",
     "height": 279
    },
    "colab_type": "code",
    "executionInfo": {
     "elapsed": 3088,
     "status": "ok",
     "timestamp": 1574552571157,
     "user": {
      "displayName": "Free Food",
      "photoUrl": "",
      "userId": "02789899940229016810"
     },
     "user_tz": 480
    },
    "id": "jxEc0xjDpHU8",
    "outputId": "01a5d605-fa1d-473a-f447-897847d3dff3"
   },
   "outputs": [
    {
     "data": {
      "image/png": "[encoded data removed]",
      "text/plain": [
       "<Figure size 432x288 with 1 Axes>"
      ]
     },
     "metadata": {
      "tags": []
     },
     "output_type": "display_data"
    }
   ],
   "source": [
    "#linear increase in ts wrt index\n",
    "import matplotlib.pyplot as plt\n",
    "import numpy as np\n",
    "x = data['ts'].values\n",
    "y = data.index\n",
    "plt.scatter(x,y)\n",
    "plt.plot()\n",
    "plt.show()"
   ]
  },
  {
   "cell_type": "code",
   "execution_count": 0,
   "metadata": {
    "colab": {},
    "colab_type": "code",
    "id": "e3H5GTBJzGkl"
   },
   "outputs": [],
   "source": [
    "import numpy as np\n",
    "import pandas as pd\n",
    "import seaborn as sns\n",
    "import matplotlib\n",
    "import matplotlib.pyplot as plt\n",
    "import matplotlib.animation as animation"
   ]
  },
  {
   "cell_type": "code",
   "execution_count": 0,
   "metadata": {
    "colab": {
     "base_uri": "https://localhost:8080/",
     "height": 419
    },
    "colab_type": "code",
    "executionInfo": {
     "elapsed": 303,
     "status": "ok",
     "timestamp": 1573500719129,
     "user": {
      "displayName": "Free Food",
      "photoUrl": "",
      "userId": "02789899940229016810"
     },
     "user_tz": 480
    },
    "id": "12hyrmk083UW",
    "outputId": "71343fef-0c40-4ac3-fb12-d2ac7bcc2b4c"
   },
   "outputs": [
    {
     "data": {
      "text/html": [
       "<div>\n",
       "<style scoped>\n",
       "    .dataframe tbody tr th:only-of-type {\n",
       "        vertical-align: middle;\n",
       "    }\n",
       "\n",
       "    .dataframe tbody tr th {\n",
       "        vertical-align: top;\n",
       "    }\n",
       "\n",
       "    .dataframe thead th {\n",
       "        text-align: right;\n",
       "    }\n",
       "</style>\n",
       "<table border=\"1\" class=\"dataframe\">\n",
       "  <thead>\n",
       "    <tr style=\"text-align: right;\">\n",
       "      <th></th>\n",
       "      <th>SID</th>\n",
       "      <th>ts</th>\n",
       "      <th>x</th>\n",
       "      <th>y</th>\n",
       "      <th>z</th>\n",
       "    </tr>\n",
       "  </thead>\n",
       "  <tbody>\n",
       "    <tr>\n",
       "      <th>28</th>\n",
       "      <td>88</td>\n",
       "      <td>10634832953218447</td>\n",
       "      <td>27829</td>\n",
       "      <td>-4293</td>\n",
       "      <td>-279</td>\n",
       "    </tr>\n",
       "    <tr>\n",
       "      <th>82</th>\n",
       "      <td>88</td>\n",
       "      <td>10634908717411987</td>\n",
       "      <td>27825</td>\n",
       "      <td>-4295</td>\n",
       "      <td>-261</td>\n",
       "    </tr>\n",
       "    <tr>\n",
       "      <th>131</th>\n",
       "      <td>88</td>\n",
       "      <td>10634969328767449</td>\n",
       "      <td>27828</td>\n",
       "      <td>-4302</td>\n",
       "      <td>-196</td>\n",
       "    </tr>\n",
       "    <tr>\n",
       "      <th>468</th>\n",
       "      <td>88</td>\n",
       "      <td>10635383506359739</td>\n",
       "      <td>27857</td>\n",
       "      <td>-4309</td>\n",
       "      <td>-103</td>\n",
       "    </tr>\n",
       "    <tr>\n",
       "      <th>497</th>\n",
       "      <td>88</td>\n",
       "      <td>10635418862983481</td>\n",
       "      <td>27853</td>\n",
       "      <td>-4309</td>\n",
       "      <td>-114</td>\n",
       "    </tr>\n",
       "    <tr>\n",
       "      <th>...</th>\n",
       "      <td>...</td>\n",
       "      <td>...</td>\n",
       "      <td>...</td>\n",
       "      <td>...</td>\n",
       "      <td>...</td>\n",
       "    </tr>\n",
       "    <tr>\n",
       "      <th>3097965</th>\n",
       "      <td>88</td>\n",
       "      <td>14893336409968008</td>\n",
       "      <td>23094</td>\n",
       "      <td>614</td>\n",
       "      <td>227</td>\n",
       "    </tr>\n",
       "    <tr>\n",
       "      <th>3098032</th>\n",
       "      <td>88</td>\n",
       "      <td>14893407123193581</td>\n",
       "      <td>23088</td>\n",
       "      <td>615</td>\n",
       "      <td>220</td>\n",
       "    </tr>\n",
       "    <tr>\n",
       "      <th>3098094</th>\n",
       "      <td>88</td>\n",
       "      <td>14893472785474558</td>\n",
       "      <td>23087</td>\n",
       "      <td>617</td>\n",
       "      <td>196</td>\n",
       "    </tr>\n",
       "    <tr>\n",
       "      <th>3098176</th>\n",
       "      <td>88</td>\n",
       "      <td>14893558651533933</td>\n",
       "      <td>23085</td>\n",
       "      <td>620</td>\n",
       "      <td>159</td>\n",
       "    </tr>\n",
       "    <tr>\n",
       "      <th>3098334</th>\n",
       "      <td>88</td>\n",
       "      <td>14893725332708635</td>\n",
       "      <td>23074</td>\n",
       "      <td>620</td>\n",
       "      <td>111</td>\n",
       "    </tr>\n",
       "  </tbody>\n",
       "</table>\n",
       "<p>35451 rows × 5 columns</p>\n",
       "</div>"
      ],
      "text/plain": [
       "         SID                 ts      x     y    z\n",
       "28        88  10634832953218447  27829 -4293 -279\n",
       "82        88  10634908717411987  27825 -4295 -261\n",
       "131       88  10634969328767449  27828 -4302 -196\n",
       "468       88  10635383506359739  27857 -4309 -103\n",
       "497       88  10635418862983481  27853 -4309 -114\n",
       "...      ...                ...    ...   ...  ...\n",
       "3097965   88  14893336409968008  23094   614  227\n",
       "3098032   88  14893407123193581  23088   615  220\n",
       "3098094   88  14893472785474558  23087   617  196\n",
       "3098176   88  14893558651533933  23085   620  159\n",
       "3098334   88  14893725332708635  23074   620  111\n",
       "\n",
       "[35451 rows x 5 columns]"
      ]
     },
     "execution_count": 20,
     "metadata": {
      "tags": []
     },
     "output_type": "execute_result"
    }
   ],
   "source": [
    "data_keeper"
   ]
  },
  {
   "cell_type": "code",
   "execution_count": 0,
   "metadata": {
    "colab": {
     "base_uri": "https://localhost:8080/",
     "height": 281
    },
    "colab_type": "code",
    "executionInfo": {
     "elapsed": 38104,
     "status": "ok",
     "timestamp": 1573508903200,
     "user": {
      "displayName": "Free Food",
      "photoUrl": "",
      "userId": "02789899940229016810"
     },
     "user_tz": 480
    },
    "id": "XQbV4QlMB9Mv",
    "outputId": "616ac522-6cae-44df-e638-117dcd29b218"
   },
   "outputs": [
    {
     "data": {
      "image/png": "[encoded data removed]",
      "text/plain": [
       "<Figure size 432x288 with 1 Axes>"
      ]
     },
     "metadata": {
      "tags": []
     },
     "output_type": "display_data"
    }
   ],
   "source": [
    "#animate player movement\n",
    "fig = plt.figure()\n",
    "ax = plt.axes(xlim=(-50, 54000), ylim=(-33000,33000))\n",
    "line, = ax.plot([],[], lw=2)\n",
    "def init(): \n",
    "\t# creating an empty plot/frame \n",
    "\tline.set_data([], []) \n",
    "\treturn line, \n",
    "xdata, ydata = [], [] \n",
    "def animate(i):\n",
    "  x = data_keeper['x'].values[i]\n",
    "  y = data_keeper['y'].values[i]\n",
    "  xdata.append(x)\n",
    "  ydata.append(y)\n",
    "  line.set_data(xdata, ydata)\n",
    "  return line, \n",
    "plt.title('try') \n",
    "#plt.axis('off') \n",
    "\n",
    "# call the animator\t \n",
    "anim = animation.FuncAnimation(fig, animate, init_func=init, \n",
    "\t\t\t\t\t\t\tframes=500, interval=200, blit=True) \n",
    "\n",
    "# save the animation as mp4 video file \n",
    "Writer = animation.writers['ffmpeg']\n",
    "writer = Writer(fps=20, metadata=dict(artist='Me'), bitrate=1800)\n",
    "anim.save('coil.mp4',writer=writer)"
   ]
  },
  {
   "cell_type": "markdown",
   "metadata": {
    "colab_type": "text",
    "id": "m6aQm-vhfRj8"
   },
   "source": [
    "Feature collection:"
   ]
  },
  {
   "cell_type": "code",
   "execution_count": 0,
   "metadata": {
    "colab": {},
    "colab_type": "code",
    "id": "ErakNgaxsQVs"
   },
   "outputs": [],
   "source": [
    "#normalize x and y coordinates\n",
    "data['x'] = data['x']/52539\n",
    "data['y'] = data['y']/67925"
   ]
  },
  {
   "cell_type": "code",
   "execution_count": 0,
   "metadata": {
    "colab": {
     "base_uri": "https://localhost:8080/",
     "height": 419
    },
    "colab_type": "code",
    "executionInfo": {
     "elapsed": 409,
     "status": "ok",
     "timestamp": 1574566366616,
     "user": {
      "displayName": "Free Food",
      "photoUrl": "",
      "userId": "02789899940229016810"
     },
     "user_tz": 480
    },
    "id": "aXJWxD0TditW",
    "outputId": "8eb9c524-863f-4560-8546-3cb7f9a58b2d"
   },
   "outputs": [
    {
     "data": {
      "text/html": [
       "<div>\n",
       "<style scoped>\n",
       "    .dataframe tbody tr th:only-of-type {\n",
       "        vertical-align: middle;\n",
       "    }\n",
       "\n",
       "    .dataframe tbody tr th {\n",
       "        vertical-align: top;\n",
       "    }\n",
       "\n",
       "    .dataframe thead th {\n",
       "        text-align: right;\n",
       "    }\n",
       "</style>\n",
       "<table border=\"1\" class=\"dataframe\">\n",
       "  <thead>\n",
       "    <tr style=\"text-align: right;\">\n",
       "      <th></th>\n",
       "      <th>SID</th>\n",
       "      <th>ts</th>\n",
       "      <th>x</th>\n",
       "      <th>y</th>\n",
       "      <th>z</th>\n",
       "    </tr>\n",
       "  </thead>\n",
       "  <tbody>\n",
       "    <tr>\n",
       "      <th>0</th>\n",
       "      <td>40</td>\n",
       "      <td>10634764572720448</td>\n",
       "      <td>0.518244</td>\n",
       "      <td>-0.007081</td>\n",
       "      <td>1514</td>\n",
       "    </tr>\n",
       "    <tr>\n",
       "      <th>1</th>\n",
       "      <td>64</td>\n",
       "      <td>10634776451835563</td>\n",
       "      <td>0.543006</td>\n",
       "      <td>-0.021583</td>\n",
       "      <td>-241</td>\n",
       "    </tr>\n",
       "    <tr>\n",
       "      <th>2</th>\n",
       "      <td>64</td>\n",
       "      <td>10634786243777526</td>\n",
       "      <td>0.543025</td>\n",
       "      <td>-0.021597</td>\n",
       "      <td>-236</td>\n",
       "    </tr>\n",
       "    <tr>\n",
       "      <th>3</th>\n",
       "      <td>14</td>\n",
       "      <td>10634795141594221</td>\n",
       "      <td>0.499191</td>\n",
       "      <td>-0.084328</td>\n",
       "      <td>-443</td>\n",
       "    </tr>\n",
       "    <tr>\n",
       "      <th>4</th>\n",
       "      <td>40</td>\n",
       "      <td>10634797780866227</td>\n",
       "      <td>0.518167</td>\n",
       "      <td>-0.007111</td>\n",
       "      <td>1533</td>\n",
       "    </tr>\n",
       "    <tr>\n",
       "      <th>...</th>\n",
       "      <td>...</td>\n",
       "      <td>...</td>\n",
       "      <td>...</td>\n",
       "      <td>...</td>\n",
       "      <td>...</td>\n",
       "    </tr>\n",
       "    <tr>\n",
       "      <th>886821</th>\n",
       "      <td>14</td>\n",
       "      <td>12257168872565781</td>\n",
       "      <td>0.505263</td>\n",
       "      <td>-0.381229</td>\n",
       "      <td>-372</td>\n",
       "    </tr>\n",
       "    <tr>\n",
       "      <th>886822</th>\n",
       "      <td>10</td>\n",
       "      <td>12257170202719574</td>\n",
       "      <td>-0.145130</td>\n",
       "      <td>0.546132</td>\n",
       "      <td>-398</td>\n",
       "    </tr>\n",
       "    <tr>\n",
       "      <th>886823</th>\n",
       "      <td>10</td>\n",
       "      <td>12257172842703605</td>\n",
       "      <td>-0.145130</td>\n",
       "      <td>0.546176</td>\n",
       "      <td>-406</td>\n",
       "    </tr>\n",
       "    <tr>\n",
       "      <th>886824</th>\n",
       "      <td>64</td>\n",
       "      <td>12257174224274384</td>\n",
       "      <td>0.526771</td>\n",
       "      <td>0.417328</td>\n",
       "      <td>97</td>\n",
       "    </tr>\n",
       "    <tr>\n",
       "      <th>886825</th>\n",
       "      <td>4</td>\n",
       "      <td>12257175700565463</td>\n",
       "      <td>-0.146482</td>\n",
       "      <td>-0.515451</td>\n",
       "      <td>112</td>\n",
       "    </tr>\n",
       "  </tbody>\n",
       "</table>\n",
       "<p>886826 rows × 5 columns</p>\n",
       "</div>"
      ],
      "text/plain": [
       "        SID                 ts         x         y     z\n",
       "0        40  10634764572720448  0.518244 -0.007081  1514\n",
       "1        64  10634776451835563  0.543006 -0.021583  -241\n",
       "2        64  10634786243777526  0.543025 -0.021597  -236\n",
       "3        14  10634795141594221  0.499191 -0.084328  -443\n",
       "4        40  10634797780866227  0.518167 -0.007111  1533\n",
       "...     ...                ...       ...       ...   ...\n",
       "886821   14  12257168872565781  0.505263 -0.381229  -372\n",
       "886822   10  12257170202719574 -0.145130  0.546132  -398\n",
       "886823   10  12257172842703605 -0.145130  0.546176  -406\n",
       "886824   64  12257174224274384  0.526771  0.417328    97\n",
       "886825    4  12257175700565463 -0.146482 -0.515451   112\n",
       "\n",
       "[886826 rows x 5 columns]"
      ]
     },
     "execution_count": 14,
     "metadata": {
      "tags": []
     },
     "output_type": "execute_result"
    }
   ],
   "source": [
    "data"
   ]
  },
  {
   "cell_type": "code",
   "execution_count": 0,
   "metadata": {
    "colab": {},
    "colab_type": "code",
    "id": "xpn4vL5ooHcE"
   },
   "outputs": [],
   "source": [
    "# get position of the ball for each player (0 to current ball position = ball positions for players in that range)\n",
    "# i.e. every time ball sensor sends data, set all players seen above it with that ball position to calculate their distance from the ball\n",
    "import math\n",
    "def ball_position():\n",
    "  ball_pos_x = []\n",
    "  ball_pos_y = []\n",
    "  prev_ind = 0\n",
    "  for i in range(len(data)):\n",
    "    #print (data.loc[i,'SID'])\n",
    "    if data.loc[i,'SID'] in ball:\n",
    "      ball_pos_x[prev_ind:i+1] = [data.loc[i,'x']]*(i+1-prev_ind)\n",
    "      ball_pos_y[prev_ind:i+1] = [data.loc[i,'y']]*(i+1-prev_ind)\n",
    "      prev_ind = i+1\n",
    "  return ball_pos_x, ball_pos_y"
   ]
  },
  {
   "cell_type": "code",
   "execution_count": 0,
   "metadata": {
    "colab": {},
    "colab_type": "code",
    "id": "QPJDo5usbEVw"
   },
   "outputs": [],
   "source": [
    "ball_pos_x, ball_pos_y = ball_position()"
   ]
  },
  {
   "cell_type": "code",
   "execution_count": 0,
   "metadata": {
    "colab": {
     "base_uri": "https://localhost:8080/",
     "height": 68
    },
    "colab_type": "code",
    "executionInfo": {
     "elapsed": 113471,
     "status": "ok",
     "timestamp": 1574727902934,
     "user": {
      "displayName": "Free Food",
      "photoUrl": "",
      "userId": "02789899940229016810"
     },
     "user_tz": 480
    },
    "id": "GUNO4PxzbBDb",
    "outputId": "e8973d7d-11b6-4ab3-a928-b73af79fe8c6"
   },
   "outputs": [
    {
     "name": "stdout",
     "output_type": "stream",
     "text": [
      "886826\n",
      "886826\n",
      "886826\n"
     ]
    }
   ],
   "source": [
    "# calculate distance from the ball for every player\n",
    "print(len(ball_pos_x))\n",
    "print(len(ball_pos_y))\n",
    "print(len(data))\n",
    "distances = []\n",
    "for i in range(len(data)):\n",
    "  dist = math.sqrt(((data.loc[i,'x'] - ball_pos_x[i])**2) + ((data.loc[i,'y'] - ball_pos_y[i])**2))\n",
    "  distances.append(dist)\n",
    "\n",
    "data['dist_from_ball'] = distances"
   ]
  },
  {
   "cell_type": "code",
   "execution_count": 0,
   "metadata": {
    "colab": {},
    "colab_type": "code",
    "id": "ilLAtvrWE_y8"
   },
   "outputs": [],
   "source": [
    "# calculate distance from home and distance from enemy bases ((0.5,0.5), (0.5,-0.5))\n",
    "import math\n",
    "def dist_from_home():\n",
    "  dist_from_home = []\n",
    "  for i in range(len(data)):\n",
    "    if data.loc[i,'SID'] in team_a:\n",
    "      dist = math.sqrt(((data.loc[i,'x'] - 0.5)**2) + ((data.loc[i,'y'] - 0.5)**2))\n",
    "    if data.loc[i,'SID'] in team_b:\n",
    "      dist = math.sqrt((data.loc[i,'x'] - 0.5)**2 + (data.loc[i,'y'] + 0.5)**2)\n",
    "    dist_from_home.append(dist)\n",
    "  return dist_from_home\n",
    "\n",
    "def dist_from_enemy():\n",
    "  dist_from_enemy = []\n",
    "  for i in range(len(data)):\n",
    "    if data.loc[i,'SID'] in team_a:\n",
    "      dist = math.sqrt(((data.loc[i,'x'] - 0.5)**2) + ((data.loc[i,'y'] + 0.5)**2))\n",
    "    if data.loc[i,'SID'] in team_b:\n",
    "      dist = math.sqrt((data.loc[i,'x'] - 0.5)**2 + (data.loc[i,'y'] - 0.5)**2)\n",
    "    dist_from_enemy.append(dist)\n",
    "  return dist_from_enemy"
   ]
  },
  {
   "cell_type": "code",
   "execution_count": 0,
   "metadata": {
    "colab": {},
    "colab_type": "code",
    "id": "xDpjZUhgg02T"
   },
   "outputs": [],
   "source": [
    "data['dist_from_home'] = dist_from_home()\n",
    "data['dist_from_enemy'] = dist_from_enemy()"
   ]
  },
  {
   "cell_type": "code",
   "execution_count": 0,
   "metadata": {
    "colab": {
     "base_uri": "https://localhost:8080/",
     "height": 419
    },
    "colab_type": "code",
    "executionInfo": {
     "elapsed": 158947,
     "status": "ok",
     "timestamp": 1574319561362,
     "user": {
      "displayName": "Free Food",
      "photoUrl": "",
      "userId": "02789899940229016810"
     },
     "user_tz": 480
    },
    "id": "Pgc4l6GZqFAk",
    "outputId": "ee169fbb-2aeb-44d5-ad11-c85997abc85b"
   },
   "outputs": [
    {
     "data": {
      "text/html": [
       "<div>\n",
       "<style scoped>\n",
       "    .dataframe tbody tr th:only-of-type {\n",
       "        vertical-align: middle;\n",
       "    }\n",
       "\n",
       "    .dataframe tbody tr th {\n",
       "        vertical-align: top;\n",
       "    }\n",
       "\n",
       "    .dataframe thead th {\n",
       "        text-align: right;\n",
       "    }\n",
       "</style>\n",
       "<table border=\"1\" class=\"dataframe\">\n",
       "  <thead>\n",
       "    <tr style=\"text-align: right;\">\n",
       "      <th></th>\n",
       "      <th>SID</th>\n",
       "      <th>ts</th>\n",
       "      <th>x</th>\n",
       "      <th>y</th>\n",
       "      <th>z</th>\n",
       "      <th>dist_from_ball</th>\n",
       "      <th>dist_from_home</th>\n",
       "      <th>dist_from_enemy</th>\n",
       "    </tr>\n",
       "  </thead>\n",
       "  <tbody>\n",
       "    <tr>\n",
       "      <th>0</th>\n",
       "      <td>40</td>\n",
       "      <td>10634764572720448</td>\n",
       "      <td>0.518244</td>\n",
       "      <td>-0.007081</td>\n",
       "      <td>1514</td>\n",
       "      <td>0.660489</td>\n",
       "      <td>0.493256</td>\n",
       "      <td>0.507409</td>\n",
       "    </tr>\n",
       "    <tr>\n",
       "      <th>1</th>\n",
       "      <td>64</td>\n",
       "      <td>10634776451835563</td>\n",
       "      <td>0.543006</td>\n",
       "      <td>-0.021583</td>\n",
       "      <td>-241</td>\n",
       "      <td>0.688851</td>\n",
       "      <td>0.480346</td>\n",
       "      <td>0.523353</td>\n",
       "    </tr>\n",
       "    <tr>\n",
       "      <th>2</th>\n",
       "      <td>64</td>\n",
       "      <td>10634786243777526</td>\n",
       "      <td>0.543025</td>\n",
       "      <td>-0.021597</td>\n",
       "      <td>-236</td>\n",
       "      <td>0.688874</td>\n",
       "      <td>0.480333</td>\n",
       "      <td>0.523369</td>\n",
       "    </tr>\n",
       "    <tr>\n",
       "      <th>3</th>\n",
       "      <td>14</td>\n",
       "      <td>10634795141594221</td>\n",
       "      <td>0.499191</td>\n",
       "      <td>-0.084328</td>\n",
       "      <td>-443</td>\n",
       "      <td>0.675562</td>\n",
       "      <td>0.584329</td>\n",
       "      <td>0.415672</td>\n",
       "    </tr>\n",
       "    <tr>\n",
       "      <th>4</th>\n",
       "      <td>40</td>\n",
       "      <td>10634797780866227</td>\n",
       "      <td>0.518167</td>\n",
       "      <td>-0.007111</td>\n",
       "      <td>1533</td>\n",
       "      <td>0.660429</td>\n",
       "      <td>0.493224</td>\n",
       "      <td>0.507436</td>\n",
       "    </tr>\n",
       "    <tr>\n",
       "      <th>...</th>\n",
       "      <td>...</td>\n",
       "      <td>...</td>\n",
       "      <td>...</td>\n",
       "      <td>...</td>\n",
       "      <td>...</td>\n",
       "      <td>...</td>\n",
       "      <td>...</td>\n",
       "      <td>...</td>\n",
       "    </tr>\n",
       "    <tr>\n",
       "      <th>886821</th>\n",
       "      <td>14</td>\n",
       "      <td>12257168872565781</td>\n",
       "      <td>0.505263</td>\n",
       "      <td>-0.381229</td>\n",
       "      <td>-372</td>\n",
       "      <td>1.132700</td>\n",
       "      <td>0.881245</td>\n",
       "      <td>0.118887</td>\n",
       "    </tr>\n",
       "    <tr>\n",
       "      <th>886822</th>\n",
       "      <td>10</td>\n",
       "      <td>12257170202719574</td>\n",
       "      <td>-0.145130</td>\n",
       "      <td>0.546132</td>\n",
       "      <td>-398</td>\n",
       "      <td>0.000000</td>\n",
       "      <td>0.881245</td>\n",
       "      <td>0.118887</td>\n",
       "    </tr>\n",
       "    <tr>\n",
       "      <th>886823</th>\n",
       "      <td>10</td>\n",
       "      <td>12257172842703605</td>\n",
       "      <td>-0.145130</td>\n",
       "      <td>0.546176</td>\n",
       "      <td>-406</td>\n",
       "      <td>0.000000</td>\n",
       "      <td>0.881245</td>\n",
       "      <td>0.118887</td>\n",
       "    </tr>\n",
       "    <tr>\n",
       "      <th>886824</th>\n",
       "      <td>64</td>\n",
       "      <td>12257174224274384</td>\n",
       "      <td>0.526771</td>\n",
       "      <td>0.417328</td>\n",
       "      <td>97</td>\n",
       "      <td>1.150367</td>\n",
       "      <td>0.917718</td>\n",
       "      <td>0.086898</td>\n",
       "    </tr>\n",
       "    <tr>\n",
       "      <th>886825</th>\n",
       "      <td>4</td>\n",
       "      <td>12257175700565463</td>\n",
       "      <td>-0.146482</td>\n",
       "      <td>-0.515451</td>\n",
       "      <td>112</td>\n",
       "      <td>0.000000</td>\n",
       "      <td>0.917718</td>\n",
       "      <td>0.086898</td>\n",
       "    </tr>\n",
       "  </tbody>\n",
       "</table>\n",
       "<p>886826 rows × 8 columns</p>\n",
       "</div>"
      ],
      "text/plain": [
       "        SID                 ts  ...  dist_from_home  dist_from_enemy\n",
       "0        40  10634764572720448  ...        0.493256         0.507409\n",
       "1        64  10634776451835563  ...        0.480346         0.523353\n",
       "2        64  10634786243777526  ...        0.480333         0.523369\n",
       "3        14  10634795141594221  ...        0.584329         0.415672\n",
       "4        40  10634797780866227  ...        0.493224         0.507436\n",
       "...     ...                ...  ...             ...              ...\n",
       "886821   14  12257168872565781  ...        0.881245         0.118887\n",
       "886822   10  12257170202719574  ...        0.881245         0.118887\n",
       "886823   10  12257172842703605  ...        0.881245         0.118887\n",
       "886824   64  12257174224274384  ...        0.917718         0.086898\n",
       "886825    4  12257175700565463  ...        0.917718         0.086898\n",
       "\n",
       "[886826 rows x 8 columns]"
      ]
     },
     "execution_count": 17,
     "metadata": {
      "tags": []
     },
     "output_type": "execute_result"
    }
   ],
   "source": [
    "data"
   ]
  },
  {
   "cell_type": "code",
   "execution_count": 0,
   "metadata": {
    "colab": {},
    "colab_type": "code",
    "id": "ZLRR8XyXhwi2"
   },
   "outputs": [],
   "source": [
    "# remove ball data\n",
    "row = [14,16,88,52,54,24,58,28,100,64,66,68,38,40,74,44]\n",
    "data = data.loc[data['SID'].isin(row)]\n",
    "data = data.reset_index()\n",
    "del data['index']"
   ]
  },
  {
   "cell_type": "code",
   "execution_count": 0,
   "metadata": {
    "colab": {
     "base_uri": "https://localhost:8080/",
     "height": 419
    },
    "colab_type": "code",
    "executionInfo": {
     "elapsed": 155147,
     "status": "ok",
     "timestamp": 1574727953941,
     "user": {
      "displayName": "Free Food",
      "photoUrl": "",
      "userId": "02789899940229016810"
     },
     "user_tz": 480
    },
    "id": "Qf6p69q_iMaz",
    "outputId": "05be4b07-62b0-467c-a06a-5c47ce27c16e"
   },
   "outputs": [
    {
     "data": {
      "text/html": [
       "<div>\n",
       "<style scoped>\n",
       "    .dataframe tbody tr th:only-of-type {\n",
       "        vertical-align: middle;\n",
       "    }\n",
       "\n",
       "    .dataframe tbody tr th {\n",
       "        vertical-align: top;\n",
       "    }\n",
       "\n",
       "    .dataframe thead th {\n",
       "        text-align: right;\n",
       "    }\n",
       "</style>\n",
       "<table border=\"1\" class=\"dataframe\">\n",
       "  <thead>\n",
       "    <tr style=\"text-align: right;\">\n",
       "      <th></th>\n",
       "      <th>SID</th>\n",
       "      <th>ts</th>\n",
       "      <th>x</th>\n",
       "      <th>y</th>\n",
       "      <th>z</th>\n",
       "      <th>dist_from_ball</th>\n",
       "      <th>dist_from_home</th>\n",
       "      <th>dist_from_enemy</th>\n",
       "    </tr>\n",
       "  </thead>\n",
       "  <tbody>\n",
       "    <tr>\n",
       "      <th>0</th>\n",
       "      <td>40</td>\n",
       "      <td>10634764572720448</td>\n",
       "      <td>0.518244</td>\n",
       "      <td>-0.007081</td>\n",
       "      <td>1514</td>\n",
       "      <td>0.660489</td>\n",
       "      <td>0.493256</td>\n",
       "      <td>0.507409</td>\n",
       "    </tr>\n",
       "    <tr>\n",
       "      <th>1</th>\n",
       "      <td>64</td>\n",
       "      <td>10634776451835563</td>\n",
       "      <td>0.543006</td>\n",
       "      <td>-0.021583</td>\n",
       "      <td>-241</td>\n",
       "      <td>0.688851</td>\n",
       "      <td>0.480346</td>\n",
       "      <td>0.523353</td>\n",
       "    </tr>\n",
       "    <tr>\n",
       "      <th>2</th>\n",
       "      <td>64</td>\n",
       "      <td>10634786243777526</td>\n",
       "      <td>0.543025</td>\n",
       "      <td>-0.021597</td>\n",
       "      <td>-236</td>\n",
       "      <td>0.688874</td>\n",
       "      <td>0.480333</td>\n",
       "      <td>0.523369</td>\n",
       "    </tr>\n",
       "    <tr>\n",
       "      <th>3</th>\n",
       "      <td>14</td>\n",
       "      <td>10634795141594221</td>\n",
       "      <td>0.499191</td>\n",
       "      <td>-0.084328</td>\n",
       "      <td>-443</td>\n",
       "      <td>0.675562</td>\n",
       "      <td>0.584329</td>\n",
       "      <td>0.415672</td>\n",
       "    </tr>\n",
       "    <tr>\n",
       "      <th>4</th>\n",
       "      <td>40</td>\n",
       "      <td>10634797780866227</td>\n",
       "      <td>0.518167</td>\n",
       "      <td>-0.007111</td>\n",
       "      <td>1533</td>\n",
       "      <td>0.660429</td>\n",
       "      <td>0.493224</td>\n",
       "      <td>0.507436</td>\n",
       "    </tr>\n",
       "    <tr>\n",
       "      <th>...</th>\n",
       "      <td>...</td>\n",
       "      <td>...</td>\n",
       "      <td>...</td>\n",
       "      <td>...</td>\n",
       "      <td>...</td>\n",
       "      <td>...</td>\n",
       "      <td>...</td>\n",
       "      <td>...</td>\n",
       "    </tr>\n",
       "    <tr>\n",
       "      <th>289699</th>\n",
       "      <td>74</td>\n",
       "      <td>12257142834870984</td>\n",
       "      <td>0.454443</td>\n",
       "      <td>-0.012661</td>\n",
       "      <td>125</td>\n",
       "      <td>0.819568</td>\n",
       "      <td>0.489464</td>\n",
       "      <td>0.514681</td>\n",
       "    </tr>\n",
       "    <tr>\n",
       "      <th>289700</th>\n",
       "      <td>54</td>\n",
       "      <td>12257145762103809</td>\n",
       "      <td>0.337445</td>\n",
       "      <td>-0.145970</td>\n",
       "      <td>505</td>\n",
       "      <td>0.608882</td>\n",
       "      <td>0.666109</td>\n",
       "      <td>0.389566</td>\n",
       "    </tr>\n",
       "    <tr>\n",
       "      <th>289701</th>\n",
       "      <td>64</td>\n",
       "      <td>12257149744436316</td>\n",
       "      <td>0.526428</td>\n",
       "      <td>0.417446</td>\n",
       "      <td>127</td>\n",
       "      <td>0.415976</td>\n",
       "      <td>0.917826</td>\n",
       "      <td>0.086681</td>\n",
       "    </tr>\n",
       "    <tr>\n",
       "      <th>289702</th>\n",
       "      <td>14</td>\n",
       "      <td>12257168872565781</td>\n",
       "      <td>0.505263</td>\n",
       "      <td>-0.381229</td>\n",
       "      <td>-372</td>\n",
       "      <td>1.132700</td>\n",
       "      <td>0.881245</td>\n",
       "      <td>0.118887</td>\n",
       "    </tr>\n",
       "    <tr>\n",
       "      <th>289703</th>\n",
       "      <td>64</td>\n",
       "      <td>12257174224274384</td>\n",
       "      <td>0.526771</td>\n",
       "      <td>0.417328</td>\n",
       "      <td>97</td>\n",
       "      <td>1.150367</td>\n",
       "      <td>0.917718</td>\n",
       "      <td>0.086898</td>\n",
       "    </tr>\n",
       "  </tbody>\n",
       "</table>\n",
       "<p>289704 rows × 8 columns</p>\n",
       "</div>"
      ],
      "text/plain": [
       "        SID                 ts  ...  dist_from_home  dist_from_enemy\n",
       "0        40  10634764572720448  ...        0.493256         0.507409\n",
       "1        64  10634776451835563  ...        0.480346         0.523353\n",
       "2        64  10634786243777526  ...        0.480333         0.523369\n",
       "3        14  10634795141594221  ...        0.584329         0.415672\n",
       "4        40  10634797780866227  ...        0.493224         0.507436\n",
       "...     ...                ...  ...             ...              ...\n",
       "289699   74  12257142834870984  ...        0.489464         0.514681\n",
       "289700   54  12257145762103809  ...        0.666109         0.389566\n",
       "289701   64  12257149744436316  ...        0.917826         0.086681\n",
       "289702   14  12257168872565781  ...        0.881245         0.118887\n",
       "289703   64  12257174224274384  ...        0.917718         0.086898\n",
       "\n",
       "[289704 rows x 8 columns]"
      ]
     },
     "execution_count": 17,
     "metadata": {
      "tags": []
     },
     "output_type": "execute_result"
    }
   ],
   "source": [
    "data"
   ]
  },
  {
   "cell_type": "code",
   "execution_count": 0,
   "metadata": {
    "colab": {
     "base_uri": "https://localhost:8080/",
     "height": 576
    },
    "colab_type": "code",
    "executionInfo": {
     "elapsed": 66695,
     "status": "ok",
     "timestamp": 1573882714003,
     "user": {
      "displayName": "Free Food",
      "photoUrl": "",
      "userId": "02789899940229016810"
     },
     "user_tz": 480
    },
    "id": "wCc6iuqI63zf",
    "outputId": "cd9e585d-8456-4eca-ea92-d42d4b07e4cd"
   },
   "outputs": [
    {
     "data": {
      "text/html": [
       "<div>\n",
       "<style scoped>\n",
       "    .dataframe tbody tr th:only-of-type {\n",
       "        vertical-align: middle;\n",
       "    }\n",
       "\n",
       "    .dataframe tbody tr th {\n",
       "        vertical-align: top;\n",
       "    }\n",
       "\n",
       "    .dataframe thead th {\n",
       "        text-align: right;\n",
       "    }\n",
       "</style>\n",
       "<table border=\"1\" class=\"dataframe\">\n",
       "  <thead>\n",
       "    <tr style=\"text-align: right;\">\n",
       "      <th></th>\n",
       "      <th>ts</th>\n",
       "      <th>x</th>\n",
       "      <th>y</th>\n",
       "      <th>z</th>\n",
       "      <th>dist_from_ball</th>\n",
       "      <th>dist_from_home</th>\n",
       "      <th>dist_from_enemy</th>\n",
       "    </tr>\n",
       "    <tr>\n",
       "      <th>SID</th>\n",
       "      <th></th>\n",
       "      <th></th>\n",
       "      <th></th>\n",
       "      <th></th>\n",
       "      <th></th>\n",
       "      <th></th>\n",
       "      <th></th>\n",
       "    </tr>\n",
       "  </thead>\n",
       "  <tbody>\n",
       "    <tr>\n",
       "      <th>14</th>\n",
       "      <td>20925</td>\n",
       "      <td>20925</td>\n",
       "      <td>20925</td>\n",
       "      <td>20925</td>\n",
       "      <td>20925</td>\n",
       "      <td>20925</td>\n",
       "      <td>20925</td>\n",
       "    </tr>\n",
       "    <tr>\n",
       "      <th>16</th>\n",
       "      <td>18678</td>\n",
       "      <td>18678</td>\n",
       "      <td>18678</td>\n",
       "      <td>18678</td>\n",
       "      <td>18678</td>\n",
       "      <td>18678</td>\n",
       "      <td>18678</td>\n",
       "    </tr>\n",
       "    <tr>\n",
       "      <th>24</th>\n",
       "      <td>20290</td>\n",
       "      <td>20290</td>\n",
       "      <td>20290</td>\n",
       "      <td>20290</td>\n",
       "      <td>20290</td>\n",
       "      <td>20290</td>\n",
       "      <td>20290</td>\n",
       "    </tr>\n",
       "    <tr>\n",
       "      <th>28</th>\n",
       "      <td>17323</td>\n",
       "      <td>17323</td>\n",
       "      <td>17323</td>\n",
       "      <td>17323</td>\n",
       "      <td>17323</td>\n",
       "      <td>17323</td>\n",
       "      <td>17323</td>\n",
       "    </tr>\n",
       "    <tr>\n",
       "      <th>38</th>\n",
       "      <td>17646</td>\n",
       "      <td>17646</td>\n",
       "      <td>17646</td>\n",
       "      <td>17646</td>\n",
       "      <td>17646</td>\n",
       "      <td>17646</td>\n",
       "      <td>17646</td>\n",
       "    </tr>\n",
       "    <tr>\n",
       "      <th>40</th>\n",
       "      <td>17898</td>\n",
       "      <td>17898</td>\n",
       "      <td>17898</td>\n",
       "      <td>17898</td>\n",
       "      <td>17898</td>\n",
       "      <td>17898</td>\n",
       "      <td>17898</td>\n",
       "    </tr>\n",
       "    <tr>\n",
       "      <th>44</th>\n",
       "      <td>16034</td>\n",
       "      <td>16034</td>\n",
       "      <td>16034</td>\n",
       "      <td>16034</td>\n",
       "      <td>16034</td>\n",
       "      <td>16034</td>\n",
       "      <td>16034</td>\n",
       "    </tr>\n",
       "    <tr>\n",
       "      <th>52</th>\n",
       "      <td>17125</td>\n",
       "      <td>17125</td>\n",
       "      <td>17125</td>\n",
       "      <td>17125</td>\n",
       "      <td>17125</td>\n",
       "      <td>17125</td>\n",
       "      <td>17125</td>\n",
       "    </tr>\n",
       "    <tr>\n",
       "      <th>54</th>\n",
       "      <td>20736</td>\n",
       "      <td>20736</td>\n",
       "      <td>20736</td>\n",
       "      <td>20736</td>\n",
       "      <td>20736</td>\n",
       "      <td>20736</td>\n",
       "      <td>20736</td>\n",
       "    </tr>\n",
       "    <tr>\n",
       "      <th>58</th>\n",
       "      <td>17935</td>\n",
       "      <td>17935</td>\n",
       "      <td>17935</td>\n",
       "      <td>17935</td>\n",
       "      <td>17935</td>\n",
       "      <td>17935</td>\n",
       "      <td>17935</td>\n",
       "    </tr>\n",
       "    <tr>\n",
       "      <th>64</th>\n",
       "      <td>16726</td>\n",
       "      <td>16726</td>\n",
       "      <td>16726</td>\n",
       "      <td>16726</td>\n",
       "      <td>16726</td>\n",
       "      <td>16726</td>\n",
       "      <td>16726</td>\n",
       "    </tr>\n",
       "    <tr>\n",
       "      <th>66</th>\n",
       "      <td>20311</td>\n",
       "      <td>20311</td>\n",
       "      <td>20311</td>\n",
       "      <td>20311</td>\n",
       "      <td>20311</td>\n",
       "      <td>20311</td>\n",
       "      <td>20311</td>\n",
       "    </tr>\n",
       "    <tr>\n",
       "      <th>68</th>\n",
       "      <td>18583</td>\n",
       "      <td>18583</td>\n",
       "      <td>18583</td>\n",
       "      <td>18583</td>\n",
       "      <td>18583</td>\n",
       "      <td>18583</td>\n",
       "      <td>18583</td>\n",
       "    </tr>\n",
       "    <tr>\n",
       "      <th>74</th>\n",
       "      <td>18768</td>\n",
       "      <td>18768</td>\n",
       "      <td>18768</td>\n",
       "      <td>18768</td>\n",
       "      <td>18768</td>\n",
       "      <td>18768</td>\n",
       "      <td>18768</td>\n",
       "    </tr>\n",
       "    <tr>\n",
       "      <th>88</th>\n",
       "      <td>13863</td>\n",
       "      <td>13863</td>\n",
       "      <td>13863</td>\n",
       "      <td>13863</td>\n",
       "      <td>13863</td>\n",
       "      <td>13863</td>\n",
       "      <td>13863</td>\n",
       "    </tr>\n",
       "    <tr>\n",
       "      <th>100</th>\n",
       "      <td>16863</td>\n",
       "      <td>16863</td>\n",
       "      <td>16863</td>\n",
       "      <td>16863</td>\n",
       "      <td>16863</td>\n",
       "      <td>16863</td>\n",
       "      <td>16863</td>\n",
       "    </tr>\n",
       "  </tbody>\n",
       "</table>\n",
       "</div>"
      ],
      "text/plain": [
       "        ts      x      y  ...  dist_from_ball  dist_from_home  dist_from_enemy\n",
       "SID                       ...                                                 \n",
       "14   20925  20925  20925  ...           20925           20925            20925\n",
       "16   18678  18678  18678  ...           18678           18678            18678\n",
       "24   20290  20290  20290  ...           20290           20290            20290\n",
       "28   17323  17323  17323  ...           17323           17323            17323\n",
       "38   17646  17646  17646  ...           17646           17646            17646\n",
       "40   17898  17898  17898  ...           17898           17898            17898\n",
       "44   16034  16034  16034  ...           16034           16034            16034\n",
       "52   17125  17125  17125  ...           17125           17125            17125\n",
       "54   20736  20736  20736  ...           20736           20736            20736\n",
       "58   17935  17935  17935  ...           17935           17935            17935\n",
       "64   16726  16726  16726  ...           16726           16726            16726\n",
       "66   20311  20311  20311  ...           20311           20311            20311\n",
       "68   18583  18583  18583  ...           18583           18583            18583\n",
       "74   18768  18768  18768  ...           18768           18768            18768\n",
       "88   13863  13863  13863  ...           13863           13863            13863\n",
       "100  16863  16863  16863  ...           16863           16863            16863\n",
       "\n",
       "[16 rows x 7 columns]"
      ]
     },
     "execution_count": 98,
     "metadata": {
      "tags": []
     },
     "output_type": "execute_result"
    }
   ],
   "source": [
    "data.groupby('SID').agg('count')"
   ]
  },
  {
   "cell_type": "code",
   "execution_count": 0,
   "metadata": {
    "colab": {},
    "colab_type": "code",
    "id": "9TN391LLoAaX"
   },
   "outputs": [],
   "source": [
    "# function to get count of nearest neighbours\n",
    "import numpy as np\n",
    "import math\n",
    "def get_count(pos,i):\n",
    "  this = np.asarray([data.loc[i,'x'],data.loc[i,'y']])\n",
    "  distances = []\n",
    "  distances = np.array([np.linalg.norm(this-other) for other in pos])\n",
    "  #print(distances)\n",
    "  distances = np.array(distances)\n",
    "  number_neighbors = (distances <= 0.35).sum()\n",
    "  #number_neighbors = np.count_nonzero(np.where(distances <= 0.117))\n",
    "  return number_neighbors"
   ]
  },
  {
   "cell_type": "code",
   "execution_count": 0,
   "metadata": {
    "colab": {},
    "colab_type": "code",
    "id": "2At9ZmeaVJaq"
   },
   "outputs": [],
   "source": [
    "#for all players within time limit 0.2 seconds, collect all player data and count number of players within 10meters\n",
    "count_team = []\n",
    "for i in range(len(data)):\n",
    "  count  = 0\n",
    "  time = data.loc[i,'ts']\n",
    "  posi = []\n",
    "  visited = set()\n",
    "  for j in range(i+1,len(data)):\n",
    "    if data.loc[j,'ts']-time < 200000000000:\n",
    "      pos = []\n",
    "      #see only own team players + dont see yourself + dont see players which are already seen-- if i is in team A\n",
    "      if data.loc[i,'SID'] in team_a and data.loc[j, 'SID'] in team_a and data.loc[j, 'SID'] != data.loc[i,'SID'] and data.loc[j, 'SID'] not in visited: \n",
    "        pos = [data.loc[j,'x'],data.loc[j,'y']]\n",
    "        posi.append(np.asarray(pos))\n",
    "        visited.add(data.loc[j, 'SID'])\n",
    "      #if i is in team B\n",
    "      elif data.loc[i,'SID'] in team_b and data.loc[j, 'SID'] in team_b and data.loc[j, 'SID'] != data.loc[i,'SID'] and data.loc[j, 'SID'] not in visited:\n",
    "        pos = [data.loc[j,'x'],data.loc[j,'y']]\n",
    "        posi.append(np.asarray(pos))\n",
    "        visited.add(data.loc[j, 'SID'])\n",
    "    else:\n",
    "      break\n",
    "  if(len(posi) == 0):\n",
    "    count = 0\n",
    "  else:\n",
    "    count = get_count(posi,i)\n",
    "    #print(\"i\",\"count\",i,count)\n",
    "  count_team.append(count)"
   ]
  },
  {
   "cell_type": "code",
   "execution_count": 0,
   "metadata": {
    "colab": {},
    "colab_type": "code",
    "id": "LiSl8p0Klv9Z"
   },
   "outputs": [],
   "source": [
    "#pickle data into file\n",
    "import pickle\n",
    "infile = open('count_players','wb')\n",
    "pickle.dump(count_team,infile)\n",
    "infile.close()"
   ]
  },
  {
   "cell_type": "code",
   "execution_count": 0,
   "metadata": {
    "colab": {},
    "colab_type": "code",
    "id": "wTmgyNMJ9qin"
   },
   "outputs": [],
   "source": [
    "#read pickled file\n",
    "import pickle\n",
    "infile = open('count_players','rb')\n",
    "count_team = pickle.load(infile)\n",
    "infile.close()"
   ]
  },
  {
   "cell_type": "code",
   "execution_count": 0,
   "metadata": {
    "colab": {},
    "colab_type": "code",
    "id": "EcQzjwGQwRo4"
   },
   "outputs": [],
   "source": [
    "data['allies_nearby'] = count_team"
   ]
  },
  {
   "cell_type": "code",
   "execution_count": 0,
   "metadata": {
    "colab": {},
    "colab_type": "code",
    "id": "3qrCR_5a-A5v"
   },
   "outputs": [],
   "source": [
    "#normalize number of neighbouring players\n",
    "data['allies_nearby'] = data['allies_nearby']/8"
   ]
  },
  {
   "cell_type": "code",
   "execution_count": 0,
   "metadata": {
    "colab": {},
    "colab_type": "code",
    "id": "nhirZT5IAjH3"
   },
   "outputs": [],
   "source": [
    "# similarly for enemies_nearby\n",
    "count_opp = []\n",
    "for i in range(len(data)):\n",
    "  count  = 0\n",
    "  time = data.loc[i,'ts']\n",
    "  posi = []\n",
    "  visited = set()\n",
    "  for j in range(i+1,len(data)):\n",
    "    if data.loc[j,'ts']-time < 200000000000:\n",
    "      pos = []\n",
    "      #see only own team players + dont see yourself + dont see players which are already seen-- if i is in team A\n",
    "      if data.loc[i,'SID'] in team_a and data.loc[j, 'SID'] in team_b and data.loc[j, 'SID'] not in visited: \n",
    "        pos = [data.loc[j,'x'],data.loc[j,'y']]\n",
    "        posi.append(np.asarray(pos))\n",
    "        visited.add(data.loc[j, 'SID'])\n",
    "      #if i is in team B\n",
    "      elif data.loc[i,'SID'] in team_b and data.loc[j, 'SID'] in team_a and data.loc[j, 'SID'] not in visited:\n",
    "        pos = [data.loc[j,'x'],data.loc[j,'y']]\n",
    "        posi.append(np.asarray(pos))\n",
    "        visited.add(data.loc[j, 'SID'])\n",
    "    else:\n",
    "      break\n",
    "  if(len(posi) == 0):\n",
    "    count = 0\n",
    "  else:\n",
    "    count = get_count(posi,i)\n",
    "    #print(\"i\",\"count\",i,count)\n",
    "  count_opp.append(count)"
   ]
  },
  {
   "cell_type": "code",
   "execution_count": 0,
   "metadata": {
    "colab": {},
    "colab_type": "code",
    "id": "tSJBKY83Hw1W"
   },
   "outputs": [],
   "source": [
    "# normalize number of neighbouring players\n",
    "data['enemies_nearby'] = count_opp\n",
    "data['enemies_nearby'] = data['enemies_nearby']/8"
   ]
  },
  {
   "cell_type": "code",
   "execution_count": 0,
   "metadata": {
    "colab": {},
    "colab_type": "code",
    "id": "xIhrhVZcM9oM"
   },
   "outputs": [],
   "source": [
    "import pickle\n",
    "infile = open('data_features','wb')\n",
    "pickle.dump(data,infile)\n",
    "infile.close()"
   ]
  },
  {
   "cell_type": "code",
   "execution_count": 0,
   "metadata": {
    "colab": {},
    "colab_type": "code",
    "id": "OJ1EK7QwNEFi"
   },
   "outputs": [],
   "source": [
    "#run cell to load data features\n",
    "import pickle\n",
    "infile = open('data_features','rb')\n",
    "data = pickle.load(infile)\n",
    "infile.close()"
   ]
  },
  {
   "cell_type": "code",
   "execution_count": 5,
   "metadata": {
    "colab": {
     "base_uri": "https://localhost:8080/",
     "height": 419
    },
    "colab_type": "code",
    "executionInfo": {
     "elapsed": 390,
     "status": "ok",
     "timestamp": 1575399206177,
     "user": {
      "displayName": "Free Food",
      "photoUrl": "",
      "userId": "02789899940229016810"
     },
     "user_tz": 480
    },
    "id": "nbVGHh3pcshQ",
    "outputId": "d48a5a7a-6669-4706-88d6-447458bddaae"
   },
   "outputs": [
    {
     "data": {
      "text/html": [
       "<div>\n",
       "<style scoped>\n",
       "    .dataframe tbody tr th:only-of-type {\n",
       "        vertical-align: middle;\n",
       "    }\n",
       "\n",
       "    .dataframe tbody tr th {\n",
       "        vertical-align: top;\n",
       "    }\n",
       "\n",
       "    .dataframe thead th {\n",
       "        text-align: right;\n",
       "    }\n",
       "</style>\n",
       "<table border=\"1\" class=\"dataframe\">\n",
       "  <thead>\n",
       "    <tr style=\"text-align: right;\">\n",
       "      <th></th>\n",
       "      <th>SID</th>\n",
       "      <th>ts</th>\n",
       "      <th>x</th>\n",
       "      <th>y</th>\n",
       "      <th>z</th>\n",
       "      <th>dist_from_ball</th>\n",
       "      <th>dist_from_home</th>\n",
       "      <th>dist_from_enemy</th>\n",
       "      <th>allies_nearby</th>\n",
       "      <th>enemies_nearby</th>\n",
       "    </tr>\n",
       "  </thead>\n",
       "  <tbody>\n",
       "    <tr>\n",
       "      <th>0</th>\n",
       "      <td>40</td>\n",
       "      <td>10634764572720448</td>\n",
       "      <td>0.518244</td>\n",
       "      <td>-0.007081</td>\n",
       "      <td>1514</td>\n",
       "      <td>0.660489</td>\n",
       "      <td>0.493256</td>\n",
       "      <td>0.507409</td>\n",
       "      <td>0.750</td>\n",
       "      <td>0.875</td>\n",
       "    </tr>\n",
       "    <tr>\n",
       "      <th>1</th>\n",
       "      <td>64</td>\n",
       "      <td>10634776451835563</td>\n",
       "      <td>0.543006</td>\n",
       "      <td>-0.021583</td>\n",
       "      <td>-241</td>\n",
       "      <td>0.688851</td>\n",
       "      <td>0.480346</td>\n",
       "      <td>0.523353</td>\n",
       "      <td>0.750</td>\n",
       "      <td>0.875</td>\n",
       "    </tr>\n",
       "    <tr>\n",
       "      <th>2</th>\n",
       "      <td>64</td>\n",
       "      <td>10634786243777526</td>\n",
       "      <td>0.543025</td>\n",
       "      <td>-0.021597</td>\n",
       "      <td>-236</td>\n",
       "      <td>0.688874</td>\n",
       "      <td>0.480333</td>\n",
       "      <td>0.523369</td>\n",
       "      <td>0.750</td>\n",
       "      <td>0.875</td>\n",
       "    </tr>\n",
       "    <tr>\n",
       "      <th>3</th>\n",
       "      <td>14</td>\n",
       "      <td>10634795141594221</td>\n",
       "      <td>0.499191</td>\n",
       "      <td>-0.084328</td>\n",
       "      <td>-443</td>\n",
       "      <td>0.675562</td>\n",
       "      <td>0.584329</td>\n",
       "      <td>0.415672</td>\n",
       "      <td>0.750</td>\n",
       "      <td>0.875</td>\n",
       "    </tr>\n",
       "    <tr>\n",
       "      <th>4</th>\n",
       "      <td>40</td>\n",
       "      <td>10634797780866227</td>\n",
       "      <td>0.518167</td>\n",
       "      <td>-0.007111</td>\n",
       "      <td>1533</td>\n",
       "      <td>0.660429</td>\n",
       "      <td>0.493224</td>\n",
       "      <td>0.507436</td>\n",
       "      <td>0.750</td>\n",
       "      <td>0.750</td>\n",
       "    </tr>\n",
       "    <tr>\n",
       "      <th>...</th>\n",
       "      <td>...</td>\n",
       "      <td>...</td>\n",
       "      <td>...</td>\n",
       "      <td>...</td>\n",
       "      <td>...</td>\n",
       "      <td>...</td>\n",
       "      <td>...</td>\n",
       "      <td>...</td>\n",
       "      <td>...</td>\n",
       "      <td>...</td>\n",
       "    </tr>\n",
       "    <tr>\n",
       "      <th>289699</th>\n",
       "      <td>74</td>\n",
       "      <td>12257142834870984</td>\n",
       "      <td>0.454443</td>\n",
       "      <td>-0.012661</td>\n",
       "      <td>125</td>\n",
       "      <td>0.819568</td>\n",
       "      <td>0.489464</td>\n",
       "      <td>0.514681</td>\n",
       "      <td>0.000</td>\n",
       "      <td>0.125</td>\n",
       "    </tr>\n",
       "    <tr>\n",
       "      <th>289700</th>\n",
       "      <td>54</td>\n",
       "      <td>12257145762103809</td>\n",
       "      <td>0.337445</td>\n",
       "      <td>-0.145970</td>\n",
       "      <td>505</td>\n",
       "      <td>0.608882</td>\n",
       "      <td>0.666109</td>\n",
       "      <td>0.389566</td>\n",
       "      <td>0.125</td>\n",
       "      <td>0.000</td>\n",
       "    </tr>\n",
       "    <tr>\n",
       "      <th>289701</th>\n",
       "      <td>64</td>\n",
       "      <td>12257149744436316</td>\n",
       "      <td>0.526428</td>\n",
       "      <td>0.417446</td>\n",
       "      <td>127</td>\n",
       "      <td>0.415976</td>\n",
       "      <td>0.917826</td>\n",
       "      <td>0.086681</td>\n",
       "      <td>0.000</td>\n",
       "      <td>0.000</td>\n",
       "    </tr>\n",
       "    <tr>\n",
       "      <th>289702</th>\n",
       "      <td>14</td>\n",
       "      <td>12257168872565781</td>\n",
       "      <td>0.505263</td>\n",
       "      <td>-0.381229</td>\n",
       "      <td>-372</td>\n",
       "      <td>1.132700</td>\n",
       "      <td>0.881245</td>\n",
       "      <td>0.118887</td>\n",
       "      <td>0.000</td>\n",
       "      <td>0.000</td>\n",
       "    </tr>\n",
       "    <tr>\n",
       "      <th>289703</th>\n",
       "      <td>64</td>\n",
       "      <td>12257174224274384</td>\n",
       "      <td>0.526771</td>\n",
       "      <td>0.417328</td>\n",
       "      <td>97</td>\n",
       "      <td>1.150367</td>\n",
       "      <td>0.917718</td>\n",
       "      <td>0.086898</td>\n",
       "      <td>0.000</td>\n",
       "      <td>0.000</td>\n",
       "    </tr>\n",
       "  </tbody>\n",
       "</table>\n",
       "<p>289704 rows × 10 columns</p>\n",
       "</div>"
      ],
      "text/plain": [
       "        SID                 ts  ...  allies_nearby  enemies_nearby\n",
       "0        40  10634764572720448  ...          0.750           0.875\n",
       "1        64  10634776451835563  ...          0.750           0.875\n",
       "2        64  10634786243777526  ...          0.750           0.875\n",
       "3        14  10634795141594221  ...          0.750           0.875\n",
       "4        40  10634797780866227  ...          0.750           0.750\n",
       "...     ...                ...  ...            ...             ...\n",
       "289699   74  12257142834870984  ...          0.000           0.125\n",
       "289700   54  12257145762103809  ...          0.125           0.000\n",
       "289701   64  12257149744436316  ...          0.000           0.000\n",
       "289702   14  12257168872565781  ...          0.000           0.000\n",
       "289703   64  12257174224274384  ...          0.000           0.000\n",
       "\n",
       "[289704 rows x 10 columns]"
      ]
     },
     "execution_count": 5,
     "metadata": {
      "tags": []
     },
     "output_type": "execute_result"
    }
   ],
   "source": [
    "data"
   ]
  },
  {
   "cell_type": "code",
   "execution_count": 0,
   "metadata": {
    "colab": {},
    "colab_type": "code",
    "id": "DnWDlOO5OF-_"
   },
   "outputs": [],
   "source": [
    "#currently we have data every 0.01 secs --> take every 10th row from here (0.01 x 10)\n",
    "data_features = data.iloc[::10,:]\n",
    "data_features = data_features.reset_index()\n",
    "del data_features['index']"
   ]
  },
  {
   "cell_type": "code",
   "execution_count": 0,
   "metadata": {
    "colab": {},
    "colab_type": "code",
    "id": "W0cAsFLDOf2m"
   },
   "outputs": [],
   "source": [
    "data_features = data_features[['SID','ts','dist_from_ball','dist_from_home','dist_from_enemy','allies_nearby','enemies_nearby']]"
   ]
  },
  {
   "cell_type": "code",
   "execution_count": 8,
   "metadata": {
    "colab": {
     "base_uri": "https://localhost:8080/",
     "height": 419
    },
    "colab_type": "code",
    "executionInfo": {
     "elapsed": 396,
     "status": "ok",
     "timestamp": 1575399228420,
     "user": {
      "displayName": "Free Food",
      "photoUrl": "",
      "userId": "02789899940229016810"
     },
     "user_tz": 480
    },
    "id": "0lKZayOvKO31",
    "outputId": "23770d4f-5f28-4b94-e983-b62e28a42158"
   },
   "outputs": [
    {
     "data": {
      "text/html": [
       "<div>\n",
       "<style scoped>\n",
       "    .dataframe tbody tr th:only-of-type {\n",
       "        vertical-align: middle;\n",
       "    }\n",
       "\n",
       "    .dataframe tbody tr th {\n",
       "        vertical-align: top;\n",
       "    }\n",
       "\n",
       "    .dataframe thead th {\n",
       "        text-align: right;\n",
       "    }\n",
       "</style>\n",
       "<table border=\"1\" class=\"dataframe\">\n",
       "  <thead>\n",
       "    <tr style=\"text-align: right;\">\n",
       "      <th></th>\n",
       "      <th>SID</th>\n",
       "      <th>ts</th>\n",
       "      <th>dist_from_ball</th>\n",
       "      <th>dist_from_home</th>\n",
       "      <th>dist_from_enemy</th>\n",
       "      <th>allies_nearby</th>\n",
       "      <th>enemies_nearby</th>\n",
       "    </tr>\n",
       "  </thead>\n",
       "  <tbody>\n",
       "    <tr>\n",
       "      <th>0</th>\n",
       "      <td>40</td>\n",
       "      <td>10634764572720448</td>\n",
       "      <td>0.660489</td>\n",
       "      <td>0.493256</td>\n",
       "      <td>0.507409</td>\n",
       "      <td>0.750</td>\n",
       "      <td>0.875</td>\n",
       "    </tr>\n",
       "    <tr>\n",
       "      <th>1</th>\n",
       "      <td>64</td>\n",
       "      <td>10634835203489517</td>\n",
       "      <td>0.688908</td>\n",
       "      <td>0.480291</td>\n",
       "      <td>0.523414</td>\n",
       "      <td>0.750</td>\n",
       "      <td>0.875</td>\n",
       "    </tr>\n",
       "    <tr>\n",
       "      <th>2</th>\n",
       "      <td>40</td>\n",
       "      <td>10634892661283797</td>\n",
       "      <td>0.660364</td>\n",
       "      <td>0.493206</td>\n",
       "      <td>0.507447</td>\n",
       "      <td>0.625</td>\n",
       "      <td>0.875</td>\n",
       "    </tr>\n",
       "    <tr>\n",
       "      <th>3</th>\n",
       "      <td>66</td>\n",
       "      <td>10634948640910929</td>\n",
       "      <td>0.671218</td>\n",
       "      <td>0.492672</td>\n",
       "      <td>0.509044</td>\n",
       "      <td>0.750</td>\n",
       "      <td>1.000</td>\n",
       "    </tr>\n",
       "    <tr>\n",
       "      <th>4</th>\n",
       "      <td>24</td>\n",
       "      <td>10634982172877346</td>\n",
       "      <td>0.042126</td>\n",
       "      <td>0.579634</td>\n",
       "      <td>0.420440</td>\n",
       "      <td>0.750</td>\n",
       "      <td>0.875</td>\n",
       "    </tr>\n",
       "    <tr>\n",
       "      <th>...</th>\n",
       "      <td>...</td>\n",
       "      <td>...</td>\n",
       "      <td>...</td>\n",
       "      <td>...</td>\n",
       "      <td>...</td>\n",
       "      <td>...</td>\n",
       "      <td>...</td>\n",
       "    </tr>\n",
       "    <tr>\n",
       "      <th>28966</th>\n",
       "      <td>24</td>\n",
       "      <td>12256807364913137</td>\n",
       "      <td>0.894558</td>\n",
       "      <td>0.607447</td>\n",
       "      <td>0.394847</td>\n",
       "      <td>0.250</td>\n",
       "      <td>0.625</td>\n",
       "    </tr>\n",
       "    <tr>\n",
       "      <th>28967</th>\n",
       "      <td>40</td>\n",
       "      <td>12256891904673596</td>\n",
       "      <td>0.220811</td>\n",
       "      <td>0.716366</td>\n",
       "      <td>0.318252</td>\n",
       "      <td>0.625</td>\n",
       "      <td>0.000</td>\n",
       "    </tr>\n",
       "    <tr>\n",
       "      <th>28968</th>\n",
       "      <td>68</td>\n",
       "      <td>12257021450938581</td>\n",
       "      <td>0.767137</td>\n",
       "      <td>0.573212</td>\n",
       "      <td>0.430392</td>\n",
       "      <td>0.625</td>\n",
       "      <td>0.250</td>\n",
       "    </tr>\n",
       "    <tr>\n",
       "      <th>28969</th>\n",
       "      <td>68</td>\n",
       "      <td>12257095295449429</td>\n",
       "      <td>0.068734</td>\n",
       "      <td>0.572880</td>\n",
       "      <td>0.430634</td>\n",
       "      <td>0.375</td>\n",
       "      <td>0.250</td>\n",
       "    </tr>\n",
       "    <tr>\n",
       "      <th>28970</th>\n",
       "      <td>54</td>\n",
       "      <td>12257145762103809</td>\n",
       "      <td>0.608882</td>\n",
       "      <td>0.666109</td>\n",
       "      <td>0.389566</td>\n",
       "      <td>0.125</td>\n",
       "      <td>0.000</td>\n",
       "    </tr>\n",
       "  </tbody>\n",
       "</table>\n",
       "<p>28971 rows × 7 columns</p>\n",
       "</div>"
      ],
      "text/plain": [
       "       SID                 ts  ...  allies_nearby  enemies_nearby\n",
       "0       40  10634764572720448  ...          0.750           0.875\n",
       "1       64  10634835203489517  ...          0.750           0.875\n",
       "2       40  10634892661283797  ...          0.625           0.875\n",
       "3       66  10634948640910929  ...          0.750           1.000\n",
       "4       24  10634982172877346  ...          0.750           0.875\n",
       "...    ...                ...  ...            ...             ...\n",
       "28966   24  12256807364913137  ...          0.250           0.625\n",
       "28967   40  12256891904673596  ...          0.625           0.000\n",
       "28968   68  12257021450938581  ...          0.625           0.250\n",
       "28969   68  12257095295449429  ...          0.375           0.250\n",
       "28970   54  12257145762103809  ...          0.125           0.000\n",
       "\n",
       "[28971 rows x 7 columns]"
      ]
     },
     "execution_count": 8,
     "metadata": {
      "tags": []
     },
     "output_type": "execute_result"
    }
   ],
   "source": [
    "data_features"
   ]
  },
  {
   "cell_type": "code",
   "execution_count": 0,
   "metadata": {
    "colab": {},
    "colab_type": "code",
    "id": "CeFCE8EZgbQm"
   },
   "outputs": [],
   "source": [
    "#for each row in data features, find same SID within 1-8 seconds and stack them together. Do this for each player. n x ts x 5\n",
    "make_stacked_tensors = []\n",
    "visited = []\n",
    "for sid in range(len(data_features)):\n",
    "  if sid not in visited:\n",
    "    visited.append(sid)\n",
    "    stack_frames = []\n",
    "    stack_frames.append(data_features.loc[sid,['dist_from_ball', 'dist_from_home','dist_from_enemy','allies_nearby','enemies_nearby']])\n",
    "    i = 0\n",
    "    for j in range(sid+1, len(data_features)):\n",
    "      if i <= 10:\n",
    "        if data_features.loc[sid,'SID'] == data_features.loc[j,'SID'] and j not in visited:\n",
    "            stack_frames.append(data_features.loc[j,['dist_from_ball', 'dist_from_home','dist_from_enemy','allies_nearby','enemies_nearby']])\n",
    "            visited.append(j)\n",
    "            i+=1\n",
    "      else:\n",
    "        break\n",
    "  else:\n",
    "    continue\n",
    "  make_stacked_tensors.append(torch.tensor(stack_frames))\n"
   ]
  },
  {
   "cell_type": "code",
   "execution_count": 0,
   "metadata": {
    "colab": {},
    "colab_type": "code",
    "id": "Fbyu3yVJhBQj"
   },
   "outputs": [],
   "source": [
    "make_stacked_tensors = [t for t in make_stacked_tensors if t.size() == torch.Size([12,5])]"
   ]
  },
  {
   "cell_type": "code",
   "execution_count": 24,
   "metadata": {
    "colab": {
     "base_uri": "https://localhost:8080/",
     "height": 34
    },
    "colab_type": "code",
    "executionInfo": {
     "elapsed": 388,
     "status": "ok",
     "timestamp": 1575399631320,
     "user": {
      "displayName": "Free Food",
      "photoUrl": "",
      "userId": "02789899940229016810"
     },
     "user_tz": 480
    },
    "id": "i-OD9yz4ISCs",
    "outputId": "51a50cef-873d-43b9-d3c3-50243b05d3e9"
   },
   "outputs": [
    {
     "data": {
      "text/plain": [
       "2407"
      ]
     },
     "execution_count": 24,
     "metadata": {
      "tags": []
     },
     "output_type": "execute_result"
    }
   ],
   "source": [
    "len(n)"
   ]
  },
  {
   "cell_type": "code",
   "execution_count": 0,
   "metadata": {
    "colab": {},
    "colab_type": "code",
    "id": "inixHK8xKhsY"
   },
   "outputs": [],
   "source": [
    "train_tensor = make_stacked_tensors"
   ]
  },
  {
   "cell_type": "code",
   "execution_count": 0,
   "metadata": {
    "colab": {},
    "colab_type": "code",
    "id": "FFaApLH1LZK5"
   },
   "outputs": [],
   "source": [
    "use_cuda = torch.cuda.is_available()"
   ]
  },
  {
   "cell_type": "code",
   "execution_count": 0,
   "metadata": {
    "colab": {},
    "colab_type": "code",
    "id": "GdBeQLSRLaQv"
   },
   "outputs": [],
   "source": [
    "batch_size = 64\n",
    "train_loader = torch.utils.data.DataLoader(\n",
    "                 dataset=train_tensor,\n",
    "                 batch_size=batch_size,\n",
    "                 shuffle=True)"
   ]
  },
  {
   "cell_type": "code",
   "execution_count": 0,
   "metadata": {
    "colab": {},
    "colab_type": "code",
    "id": "5mlSs0r1Lfg9"
   },
   "outputs": [],
   "source": [
    "class DEC_AE(nn.Module):\n",
    "    def __init__(self, num_classes, num_features):\n",
    "        super(DEC_AE,self).__init__()\n",
    "        self.dropout = nn.Dropout(p=0.1)\n",
    "        self.fc1 = nn.Linear(12*5,20)\n",
    "        self.fc2 = nn.Linear(20,8)\n",
    "        #self.fc3 = nn.Linear(14,4)\n",
    "        #self.fc4 = nn.Linear(4,num_features)\n",
    "        self.relu = nn.ReLU()\n",
    "        self.fc_d1 = nn.Linear(20,12*5)\n",
    "        self.fc_d2 = nn.Linear(8,20)\n",
    "        #self.fc_d3 = nn.Linear(4,14)\n",
    "        #self.fc_d4 = nn.Linear(num_features,4)\n",
    "        #self.alpha = 1.0\n",
    "        #self.clusterCenter = nn.Parameter(torch.zeros(num_classes,num_features))\n",
    "        self.pretrainMode = True\n",
    "        for m in self.modules():\n",
    "            if isinstance(m, nn.Conv2d) or isinstance(m, nn.Linear):\n",
    "                torch.nn.init.xavier_uniform(m.weight)\n",
    "\n",
    "    def setPretrain(self,mode):\n",
    "        \"\"\"To know if it should run only the Encoder or Encoder+Decoder\"\"\"\n",
    "        self.pretrainMode = mode\n",
    "        \n",
    "    def forward(self,x):\n",
    "        x = x.view(-1, 12*5)\n",
    "        x.float()\n",
    "        x = self.dropout(x)\n",
    "        x = self.fc1(x)\n",
    "        x = self.relu(x)\n",
    "        x = self.fc2(x)\n",
    "        x = self.relu(x)\n",
    "        #x = self.fc3(x)\n",
    "        #x = self.relu(x)\n",
    "        #x = self.fc4(x)\n",
    "        x_ae = x\n",
    "        #if not in pretrain mode, we only need encoder\n",
    "        if self.pretrainMode == False:\n",
    "            return x, self.getTDistribution(x,self.clusterCenter)\n",
    "        ##### encoder is done, followed by decoder to backprop MSE#####\n",
    "        #x = self.fc_d4(x)\n",
    "        #x = self.relu(x)\n",
    "        #x = self.fc_d3(x)\n",
    "        #x = self.relu(x)\n",
    "        x = self.fc_d2(x)\n",
    "        x = self.relu(x)\n",
    "        x = self.fc_d1(x)\n",
    "        x_de = x.view(-1,12,5)\n",
    "        return x_ae, x_de"
   ]
  },
  {
   "cell_type": "code",
   "execution_count": 0,
   "metadata": {
    "colab": {},
    "colab_type": "code",
    "id": "nBqmiKlzNQz0"
   },
   "outputs": [],
   "source": [
    "  class DEC:\n",
    "    def __init__(self,n_clusters,alpha=1.0):\n",
    "        self.n_clusters=n_clusters\n",
    "        self.alpha = alpha\n",
    "    def pretrain(self,train_loader, epochs):\n",
    "        dec_ae = DEC_AE(10,10).cuda() #auto encoder\n",
    "        mseloss = nn.MSELoss()\n",
    "        optimizer = optim.Adam(dec_ae.parameters(),lr = 0.001)\n",
    "        best_acc = 0.0\n",
    "        for epoch in range(epochs):\n",
    "            dec_ae.train()\n",
    "            running_loss=0.0\n",
    "            for i,data in enumerate(train_loader):\n",
    "                x = data\n",
    "                x = Variable(x).cuda()\n",
    "                x = x.float()\n",
    "                optimizer.zero_grad()\n",
    "                x_ae,x_de = dec_ae(x)\n",
    "                loss = F.mse_loss(x_de,x,reduce=True)\n",
    "                loss.backward()\n",
    "                optimizer.step()\n",
    "                #x_eval = x.data.cpu().numpy()\n",
    "                #label_eval = label.data.cpu().numpy()\n",
    "                running_loss += loss.data.cpu().numpy()\n",
    "                #print (running_loss/100)\n",
    "                if i % 100 == 0:   \n",
    "                    print('[%d, %5d] loss: %.7f' % (epoch + 1, i + 1, running_loss / 100))\n",
    "                    running_loss = 0.0"
   ]
  },
  {
   "cell_type": "code",
   "execution_count": 31,
   "metadata": {
    "colab": {
     "base_uri": "https://localhost:8080/",
     "height": 1000
    },
    "colab_type": "code",
    "executionInfo": {
     "elapsed": 11071,
     "status": "ok",
     "timestamp": 1575399667395,
     "user": {
      "displayName": "Free Food",
      "photoUrl": "",
      "userId": "02789899940229016810"
     },
     "user_tz": 480
    },
    "id": "nn7uvdC5Nj2n",
    "outputId": "fc21f7df-5015-47c1-908f-987aa534e97f"
   },
   "outputs": [
    {
     "name": "stderr",
     "output_type": "stream",
     "text": [
      "/usr/local/lib/python3.6/dist-packages/ipykernel_launcher.py:19: UserWarning: nn.init.xavier_uniform is now deprecated in favor of nn.init.xavier_uniform_.\n",
      "/usr/local/lib/python3.6/dist-packages/torch/nn/_reduction.py:43: UserWarning: size_average and reduce args will be deprecated, please use reduction='mean' instead.\n",
      "  warnings.warn(warning.format(ret))\n"
     ]
    },
    {
     "name": "stdout",
     "output_type": "stream",
     "text": [
      "[1,     1] loss: 0.0042539\n",
      "[2,     1] loss: 0.0019859\n",
      "[3,     1] loss: 0.0007625\n",
      "[4,     1] loss: 0.0004947\n",
      "[5,     1] loss: 0.0004764\n",
      "[6,     1] loss: 0.0003714\n",
      "[7,     1] loss: 0.0003447\n",
      "[8,     1] loss: 0.0003221\n",
      "[9,     1] loss: 0.0003416\n",
      "[10,     1] loss: 0.0002967\n",
      "[11,     1] loss: 0.0003170\n",
      "[12,     1] loss: 0.0003001\n",
      "[13,     1] loss: 0.0003040\n",
      "[14,     1] loss: 0.0002903\n",
      "[15,     1] loss: 0.0002921\n",
      "[16,     1] loss: 0.0002872\n",
      "[17,     1] loss: 0.0002322\n",
      "[18,     1] loss: 0.0002448\n",
      "[19,     1] loss: 0.0002566\n",
      "[20,     1] loss: 0.0002278\n",
      "[21,     1] loss: 0.0002362\n",
      "[22,     1] loss: 0.0002255\n",
      "[23,     1] loss: 0.0002527\n",
      "[24,     1] loss: 0.0002519\n",
      "[25,     1] loss: 0.0002393\n",
      "[26,     1] loss: 0.0002431\n",
      "[27,     1] loss: 0.0002031\n",
      "[28,     1] loss: 0.0002359\n",
      "[29,     1] loss: 0.0002396\n",
      "[30,     1] loss: 0.0002403\n",
      "[31,     1] loss: 0.0002254\n",
      "[32,     1] loss: 0.0002260\n",
      "[33,     1] loss: 0.0002314\n",
      "[34,     1] loss: 0.0002339\n",
      "[35,     1] loss: 0.0002233\n",
      "[36,     1] loss: 0.0002250\n",
      "[37,     1] loss: 0.0002102\n",
      "[38,     1] loss: 0.0002103\n",
      "[39,     1] loss: 0.0002101\n",
      "[40,     1] loss: 0.0002241\n",
      "[41,     1] loss: 0.0002441\n",
      "[42,     1] loss: 0.0002323\n",
      "[43,     1] loss: 0.0002195\n",
      "[44,     1] loss: 0.0002311\n",
      "[45,     1] loss: 0.0002081\n",
      "[46,     1] loss: 0.0002121\n",
      "[47,     1] loss: 0.0002162\n",
      "[48,     1] loss: 0.0002354\n",
      "[49,     1] loss: 0.0002178\n",
      "[50,     1] loss: 0.0002144\n",
      "[51,     1] loss: 0.0002131\n",
      "[52,     1] loss: 0.0002243\n",
      "[53,     1] loss: 0.0001968\n",
      "[54,     1] loss: 0.0002005\n",
      "[55,     1] loss: 0.0002075\n",
      "[56,     1] loss: 0.0001861\n",
      "[57,     1] loss: 0.0002104\n",
      "[58,     1] loss: 0.0001881\n",
      "[59,     1] loss: 0.0002058\n",
      "[60,     1] loss: 0.0001918\n",
      "[61,     1] loss: 0.0001959\n",
      "[62,     1] loss: 0.0002056\n",
      "[63,     1] loss: 0.0001825\n",
      "[64,     1] loss: 0.0001774\n"
     ]
    }
   ],
   "source": [
    "import random\n",
    "random.seed(7)\n",
    "dec = DEC(2)\n",
    "dec.pretrain(train_loader, 64)"
   ]
  }
 ],
 "metadata": {
  "accelerator": "GPU",
  "colab": {
   "collapsed_sections": [],
   "name": "Untitled0.ipynb",
   "provenance": []
  },
  "kernelspec": {
   "display_name": "Python 3",
   "language": "python",
   "name": "python3"
  },
  "language_info": {
   "codemirror_mode": {
    "name": "ipython",
    "version": 3
   },
   "file_extension": ".py",
   "mimetype": "text/x-python",
   "name": "python",
   "nbconvert_exporter": "python",
   "pygments_lexer": "ipython3",
   "version": "3.6.4"
  }
 },
 "nbformat": 4,
 "nbformat_minor": 1
}
